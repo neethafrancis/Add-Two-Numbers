{
  "nbformat": 4,
  "nbformat_minor": 0,
  "metadata": {
    "colab": {
      "provenance": []
    },
    "kernelspec": {
      "name": "python3",
      "display_name": "Python 3"
    },
    "language_info": {
      "name": "python"
    }
  },
  "cells": [
    {
      "cell_type": "code",
      "execution_count": 2,
      "metadata": {
        "id": "gU-nP4YHVJzz"
      },
      "outputs": [],
      "source": [
        "# Definition for singly-linked list.\n",
        "# class ListNode(object):\n",
        "#     def __init__(self, val=0, next=None):\n",
        "#         self.val = val\n",
        "#         self.next = next\n",
        "class Solution(object):\n",
        "    def addTwoNumbers(self, l1, l2):\n",
        "        \"\"\"\n",
        "        :type l1: Optional[ListNode]\n",
        "        :type l2: Optional[ListNode]\n",
        "        :rtype: Optional[ListNode]\n",
        "        \"\"\"\n",
        "        dummy = ListNode(0)\n",
        "        current = dummy\n",
        "        carry = 0\n",
        "\n",
        "        while l1 or l2 or carry:\n",
        "            val1 = l1.val if l1 else 0\n",
        "            val2 = l2.val if l2 else 0\n",
        "            sum = val1 + val2 + carry\n",
        "\n",
        "            carry = sum//10\n",
        "            current.next = ListNode(sum % 10)\n",
        "            current = current.next\n",
        "\n",
        "            if l1: l1=l1.next\n",
        "            if l2: l2=l2.next\n",
        "        return dummy.next"
      ]
    }
  ]
}